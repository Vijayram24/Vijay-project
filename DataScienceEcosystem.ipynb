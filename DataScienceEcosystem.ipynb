{
 "cells": [
  {
   "cell_type": "markdown",
   "id": "974f016f-a0d8-4223-ac5f-f4e60b1a4506",
   "metadata": {},
   "source": [
    "# Data Science Tools and Ecosystem"
   ]
  },
  {
   "cell_type": "markdown",
   "id": "44b9330c-cb9a-4e67-8796-2c1d04dd987f",
   "metadata": {},
   "source": [
    "# In this notebook, Data Science Tools and Ecosystem are summarized"
   ]
  },
  {
   "cell_type": "markdown",
   "id": "93376790-7742-47c0-8571-7fea7d7acf03",
   "metadata": {},
   "source": [
    "# Some of the popular languages that Data Scientists use are:\n",
    "1. R\n",
    "2. Python\n",
    "3. sql"
   ]
  },
  {
   "cell_type": "markdown",
   "id": "396a95e1-8e11-4553-a77f-7ec8b252131f",
   "metadata": {},
   "source": [
    "# Some of the commonly used libraries used by Data Scientists include:\n",
    "1. caret\n",
    "2. numpy\n",
    "3. pandas\n",
    "4. sklearn"
   ]
  },
  {
   "cell_type": "markdown",
   "id": "5c4f3cb2-c481-434f-a279-fc854c40c622",
   "metadata": {},
   "source": [
    "# Data Science Tools\n",
    "\n",
    "| Tool        | Description                                  |\n",
    "|-------------|----------------------------------------------|\n",
    "| Python      | High-level programming language              |\n",
    "| R           | Statistical computing and graphics           |\n",
    "| SQL         | Database management                          |\n",
    "| TensorFlow  | Machine learning library                     |\n",
    "| Jupyter     | Interactive computing notebooks              |\n",
    "| Pandas      | Data manipulation and analysis library       "
   ]
  },
  {
   "cell_type": "markdown",
   "id": "4f822cc7-08d8-48ce-900f-bc4af6e1d08a",
   "metadata": {},
   "source": [
    "### Below are a few examples of evaluating arithmetic expressions in Python\n"
   ]
  },
  {
   "cell_type": "code",
   "execution_count": 10,
   "id": "58c94f52-f724-4944-9acf-90c8a905ef9c",
   "metadata": {},
   "outputs": [
    {
     "data": {
      "text/plain": [
       "8"
      ]
     },
     "execution_count": 10,
     "metadata": {},
     "output_type": "execute_result"
    }
   ],
   "source": [
    "3 + 5 "
   ]
  },
  {
   "cell_type": "code",
   "execution_count": 12,
   "id": "424cdada-1f37-4459-b777-2a1892fc556a",
   "metadata": {},
   "outputs": [
    {
     "data": {
      "text/plain": [
       "17"
      ]
     },
     "execution_count": 12,
     "metadata": {},
     "output_type": "execute_result"
    }
   ],
   "source": [
    "#This a simple arithmetic expression to mutiply then add integers\n",
    "(3*4)+5"
   ]
  },
  {
   "cell_type": "code",
   "execution_count": 18,
   "id": "edc641a7-1ae3-4730-b749-6137f4cc6260",
   "metadata": {},
   "outputs": [
    {
     "name": "stdout",
     "output_type": "stream",
     "text": [
      "200 minutes =  3.3333333333333335 hours\n"
     ]
    }
   ],
   "source": [
    "# This will convert 200 minutes to hours by diving by 60\n",
    "print('200 minutes = ' , 200 / 60 , 'hours')"
   ]
  },
  {
   "cell_type": "markdown",
   "id": "da7565b0-9d88-49f2-8334-22636d7d2fa8",
   "metadata": {},
   "source": [
    "**Objectives:**\n",
    "\n",
    "- Understand the basics of Data Science\n",
    "- List popular languages for Data Science\n",
    "- Explore key Data Science tools and libraries\n",
    "- Learn data manipulation and analysis techniques\n",
    "- Apply machine learning algorithms\n"
   ]
  },
  {
   "cell_type": "markdown",
   "id": "ad1c9f64-52c2-4b69-b8b3-b94cdde25ee2",
   "metadata": {},
   "source": [
    "## Author : Vijayram"
   ]
  },
  {
   "cell_type": "code",
   "execution_count": null,
   "id": "c7709a85-9b8e-4030-9cb4-7921e66e920e",
   "metadata": {},
   "outputs": [],
   "source": []
  }
 ],
 "metadata": {
  "kernelspec": {
   "display_name": "Python 3 (ipykernel)",
   "language": "python",
   "name": "python3"
  },
  "language_info": {
   "codemirror_mode": {
    "name": "ipython",
    "version": 3
   },
   "file_extension": ".py",
   "mimetype": "text/x-python",
   "name": "python",
   "nbconvert_exporter": "python",
   "pygments_lexer": "ipython3",
   "version": "3.12.7"
  }
 },
 "nbformat": 4,
 "nbformat_minor": 5
}
